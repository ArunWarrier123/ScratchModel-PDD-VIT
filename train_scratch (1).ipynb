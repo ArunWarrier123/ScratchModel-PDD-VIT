{
  "nbformat": 4,
  "nbformat_minor": 0,
  "metadata": {
    "colab": {
      "provenance": [],
      "gpuType": "T4"
    },
    "kernelspec": {
      "name": "python3",
      "display_name": "Python 3"
    },
    "language_info": {
      "name": "python"
    },
    "accelerator": "GPU"
  },
  "cells": [
    {
      "cell_type": "code",
      "source": [
        "epochs = 1\n",
        "run_name = \"CP-1\"\n",
        "train_path = \"/content/drive/MyDrive/Datasets/ReadyCP/train\"\n",
        "test_path = \"/content/drive/MyDrive/Datasets/ReadyCP/test\""
      ],
      "metadata": {
        "id": "Kin5TTOhUWY3"
      },
      "execution_count": 1,
      "outputs": []
    },
    {
      "cell_type": "code",
      "source": [
        "!pip install -q patchify\n",
        "!pip install -q wandb"
      ],
      "metadata": {
        "colab": {
          "base_uri": "https://localhost:8080/"
        },
        "id": "Hn8Azk3ZWTKl",
        "outputId": "f46245f1-cec5-4fcf-e8d2-6ecee7741105"
      },
      "execution_count": 2,
      "outputs": [
        {
          "output_type": "stream",
          "name": "stdout",
          "text": [
            "\u001b[2K     \u001b[90m━━━━━━━━━━━━━━━━━━━━━━━━━━━━━━━━━━━━━━━━\u001b[0m \u001b[32m2.1/2.1 MB\u001b[0m \u001b[31m23.4 MB/s\u001b[0m eta \u001b[36m0:00:00\u001b[0m\n",
            "\u001b[2K     \u001b[90m━━━━━━━━━━━━━━━━━━━━━━━━━━━━━━━━━━━━━━━━\u001b[0m \u001b[32m190.6/190.6 kB\u001b[0m \u001b[31m24.6 MB/s\u001b[0m eta \u001b[36m0:00:00\u001b[0m\n",
            "\u001b[2K     \u001b[90m━━━━━━━━━━━━━━━━━━━━━━━━━━━━━━━━━━━━━━━━\u001b[0m \u001b[32m248.6/248.6 kB\u001b[0m \u001b[31m29.2 MB/s\u001b[0m eta \u001b[36m0:00:00\u001b[0m\n",
            "\u001b[2K     \u001b[90m━━━━━━━━━━━━━━━━━━━━━━━━━━━━━━━━━━━━━━━━\u001b[0m \u001b[32m62.7/62.7 kB\u001b[0m \u001b[31m7.5 MB/s\u001b[0m eta \u001b[36m0:00:00\u001b[0m\n",
            "\u001b[?25h"
          ]
        }
      ]
    },
    {
      "cell_type": "code",
      "source": [
        "!wandb login d9ae8f452cf7f0c4ed803a7364869721e5dd2f52\n",
        "# token = d9ae8f452cf7f0c4ed803a7364869721e5dd2f52"
      ],
      "metadata": {
        "colab": {
          "base_uri": "https://localhost:8080/"
        },
        "id": "13ZJQezEgx02",
        "outputId": "471dcf7f-f67f-46b6-870c-ebc9ba89009e"
      },
      "execution_count": 3,
      "outputs": [
        {
          "output_type": "stream",
          "name": "stdout",
          "text": [
            "\u001b[34m\u001b[1mwandb\u001b[0m: Appending key for api.wandb.ai to your netrc file: /root/.netrc\n"
          ]
        }
      ]
    },
    {
      "cell_type": "code",
      "source": [
        "from google.colab import drive\n",
        "drive.mount('/content/drive')"
      ],
      "metadata": {
        "colab": {
          "base_uri": "https://localhost:8080/"
        },
        "id": "T30iRJN62qqF",
        "outputId": "78ed5c7a-3bb3-48e2-f9d9-c6e75f2ffade"
      },
      "execution_count": 4,
      "outputs": [
        {
          "output_type": "stream",
          "name": "stdout",
          "text": [
            "Mounted at /content/drive\n"
          ]
        }
      ]
    },
    {
      "cell_type": "code",
      "source": [
        "# # delete non empty directory\n",
        "# import shutil\n",
        "\n",
        "# # Replace 'your_directory' with the actual directory path you want to delete\n",
        "# directory_path = './files/'\n",
        "\n",
        "# # Use shutil.rmtree to remove the directory and its contents\n",
        "# shutil.rmtree(directory_path)"
      ],
      "metadata": {
        "id": "3KD6XuM-VOmt"
      },
      "execution_count": 5,
      "outputs": []
    },
    {
      "cell_type": "code",
      "source": [
        "import os\n",
        "\n",
        "dataset_dir = train_path  # Replace with the path to your dataset folder\n",
        "\n",
        "# Get the class names from the subfolder names\n",
        "class_names = [class_name for class_name in os.listdir(dataset_dir) if os.path.isdir(os.path.join(dataset_dir, class_name))]\n",
        "\n",
        "# Print the class names\n",
        "print(len(class_names))\n",
        "print(class_names)"
      ],
      "metadata": {
        "colab": {
          "base_uri": "https://localhost:8080/"
        },
        "id": "L7HSTa4REAuA",
        "outputId": "825a8964-f936-4926-8662-3e387fdd5182"
      },
      "execution_count": 6,
      "outputs": [
        {
          "output_type": "stream",
          "name": "stdout",
          "text": [
            "2\n",
            "['RoughBark', 'StripeCanker']\n"
          ]
        }
      ]
    },
    {
      "cell_type": "code",
      "source": [
        "import os\n",
        "os.environ[\"TF_CPP_MIN_LOG_LEVEL\"] = \"2\"\n",
        "\n",
        "import tensorflow as tf\n",
        "from tensorflow.keras.layers import *\n",
        "from tensorflow.keras.models import Model\n",
        "import numpy as np\n",
        "import cv2\n",
        "import wandb\n",
        "from wandb.keras import WandbCallback\n",
        "from glob import glob\n",
        "from sklearn.utils import shuffle\n",
        "from sklearn.model_selection import train_test_split\n",
        "from patchify import patchify\n",
        "from tensorflow.keras.callbacks import ModelCheckpoint, CSVLogger, ReduceLROnPlateau, EarlyStopping"
      ],
      "metadata": {
        "id": "xtvQ0SEgV-Sc"
      },
      "execution_count": 7,
      "outputs": []
    },
    {
      "cell_type": "code",
      "source": [
        "class ClassToken(Layer):\n",
        "    def __init__(self):\n",
        "        super().__init__()\n",
        "\n",
        "    def build(self, input_shape):\n",
        "        w_init = tf.random_normal_initializer()\n",
        "        self.w = tf.Variable(\n",
        "            initial_value = w_init(shape=(1, 1, input_shape[-1]), dtype=tf.float32),\n",
        "            trainable = True\n",
        "        )\n",
        "\n",
        "    def call(self, inputs):\n",
        "        batch_size = tf.shape(inputs)[0]\n",
        "        hidden_dim = self.w.shape[-1]\n",
        "\n",
        "        cls = tf.broadcast_to(self.w, [batch_size, 1, hidden_dim])\n",
        "        cls = tf.cast(cls, dtype=inputs.dtype)\n",
        "        return cls"
      ],
      "metadata": {
        "id": "oBu3svr-WKUA"
      },
      "execution_count": 8,
      "outputs": []
    },
    {
      "cell_type": "code",
      "source": [
        "def mlp(x, cf):\n",
        "    x = Dense(cf[\"mlp_dim\"], activation=\"gelu\")(x)\n",
        "    x = Dropout(cf[\"dropout_rate\"])(x)\n",
        "    x = Dense(cf[\"hidden_dim\"])(x)\n",
        "    x = Dropout(cf[\"dropout_rate\"])(x)\n",
        "    return x\n",
        "\n",
        "def transformer_encoder(x, cf):\n",
        "    skip_1 = x\n",
        "    x = LayerNormalization()(x)\n",
        "    x = MultiHeadAttention(\n",
        "        num_heads=cf[\"num_heads\"], key_dim=cf[\"hidden_dim\"]\n",
        "    )(x, x)\n",
        "    x = Add()([x, skip_1])\n",
        "\n",
        "    skip_2 = x\n",
        "    x = LayerNormalization()(x)\n",
        "    x = mlp(x, cf)\n",
        "    x = Add()([x, skip_2])\n",
        "\n",
        "    return x"
      ],
      "metadata": {
        "id": "C3SMAaIJWOeE"
      },
      "execution_count": 9,
      "outputs": []
    },
    {
      "cell_type": "code",
      "execution_count": 10,
      "metadata": {
        "id": "xYpTz6S92lvR"
      },
      "outputs": [],
      "source": [
        "def ViT(cf):\n",
        "    \"\"\" Inputs \"\"\"\n",
        "    input_shape = (cf[\"num_patches\"], cf[\"patch_size\"]*cf[\"patch_size\"]*cf[\"num_channels\"])\n",
        "    inputs = Input(input_shape)     ## (None, 256, 3072)\n",
        "\n",
        "    \"\"\" Patch + Position Embeddings \"\"\"\n",
        "    patch_embed = Dense(cf[\"hidden_dim\"])(inputs)   ## (None, 256, 768)\n",
        "\n",
        "    positions = tf.range(start=0, limit=cf[\"num_patches\"], delta=1)\n",
        "    pos_embed = Embedding(input_dim=cf[\"num_patches\"], output_dim=cf[\"hidden_dim\"])(positions) ## (256, 768)\n",
        "    embed = patch_embed + pos_embed ## (None, 256, 768)\n",
        "\n",
        "    \"\"\" Adding Class Token \"\"\"\n",
        "    token = ClassToken()(embed)\n",
        "    x = Concatenate(axis=1)([token, embed]) ## (None, 257, 768)\n",
        "\n",
        "    for _ in range(cf[\"num_layers\"]):\n",
        "        x = transformer_encoder(x, cf)\n",
        "\n",
        "    \"\"\" Classification Head \"\"\"\n",
        "    x = LayerNormalization()(x)     ## (None, 257, 768)\n",
        "    x = x[:, 0, :]\n",
        "    x = Dense(cf[\"num_classes\"], activation=\"softmax\")(x)\n",
        "\n",
        "    model = Model(inputs, x)\n",
        "    return model\n",
        "\n",
        "custom_objects = {'ClassToken': ClassToken}\n",
        "# if __name__ == \"__main__\":\n",
        "#     config = {}\n",
        "#     config[\"num_layers\"] = 12\n",
        "#     config[\"hidden_dim\"] = 768\n",
        "#     config[\"mlp_dim\"] = 3072\n",
        "#     config[\"num_heads\"] = 12\n",
        "#     config[\"dropout_rate\"] = 0.1\n",
        "#     config[\"num_patches\"] = 256\n",
        "#     config[\"patch_size\"] = 32\n",
        "#     config[\"num_channels\"] = 3\n",
        "#     config[\"num_classes\"] = 5\n",
        "\n",
        "#     model = ViT(config)\n",
        "#     model.summary()"
      ]
    },
    {
      "cell_type": "code",
      "source": [
        "\"\"\" Hyperparameters \"\"\"\n",
        "hp = {}\n",
        "hp[\"image_size\"] = 200\n",
        "hp[\"num_channels\"] = 3\n",
        "hp[\"patch_size\"] = 25\n",
        "hp[\"num_patches\"] = (hp[\"image_size\"]**2) // (hp[\"patch_size\"]**2)\n",
        "hp[\"flat_patches_shape\"] = (hp[\"num_patches\"], hp[\"patch_size\"]*hp[\"patch_size\"]*hp[\"num_channels\"])\n",
        "\n",
        "hp[\"batch_size\"] = 32\n",
        "hp[\"lr\"] = 1e-4\n",
        "hp[\"num_epochs\"] = epochs\n",
        "hp[\"num_classes\"] = len(class_names)\n",
        "hp[\"class_names\"] = class_names\n",
        "\n",
        "hp[\"num_layers\"] = 12\n",
        "hp[\"hidden_dim\"] = 768\n",
        "hp[\"mlp_dim\"] = 3072\n",
        "hp[\"num_heads\"] = 12\n",
        "hp[\"dropout_rate\"] = 0.1"
      ],
      "metadata": {
        "id": "xSQ4tm2ZT9nQ"
      },
      "execution_count": 11,
      "outputs": []
    },
    {
      "cell_type": "code",
      "source": [
        "def create_dir(path):\n",
        "    if not os.path.exists(path):\n",
        "        os.makedirs(path)\n",
        "\n",
        "def load_data(train_path, test_path):\n",
        "    split=0.15\n",
        "\n",
        "    # train dir\n",
        "    subdirectories = glob(os.path.join(train_path, \"*\"))\n",
        "    print(\"train dir: \", subdirectories)\n",
        "\n",
        "    # Collect images from each subdirectory\n",
        "    images = []\n",
        "    images_array = []\n",
        "    for subdir in subdirectories:\n",
        "      jpg_files = [os.path.join(subdir, file) for file in os.listdir(subdir) if file.lower().endswith('.jpg')]\n",
        "      images_array.extend(jpg_files)\n",
        "\n",
        "    images = shuffle(images_array)\n",
        "\n",
        "    print(images)\n",
        "\n",
        "    split_size = int(len(images) * split)\n",
        "    train_x, valid_x = train_test_split(images, test_size=split_size, random_state=42)\n",
        "    # train_x, test_x = train_test_split(train_x, test_size=split_size, random_state=42)\n",
        "\n",
        "\n",
        "    # test dir\n",
        "    subdirectories = glob(os.path.join(test_path, \"*\"))\n",
        "    print(\"test dir: \", subdirectories)\n",
        "\n",
        "    images = []\n",
        "    images_array = []\n",
        "    for subdir in subdirectories:\n",
        "      jpg_files = [os.path.join(subdir, file) for file in os.listdir(subdir) if file.lower().endswith('.jpg')]\n",
        "      images_array.extend(jpg_files)\n",
        "\n",
        "    test_x = shuffle(images_array)\n",
        "\n",
        "    print(test_x)\n",
        "\n",
        "    return train_x, valid_x, test_x"
      ],
      "metadata": {
        "id": "ZNQuO49WUDPq"
      },
      "execution_count": 12,
      "outputs": []
    },
    {
      "cell_type": "code",
      "source": [
        "def process_image_label(path):\n",
        "    \"\"\" Reading images \"\"\"\n",
        "    path = path.decode()\n",
        "    image = cv2.imread(path, cv2.IMREAD_COLOR)\n",
        "    image = cv2.resize(image, (hp[\"image_size\"], hp[\"image_size\"]))\n",
        "    image = image/255.0\n",
        "\n",
        "    \"\"\" Preprocessing to patches \"\"\"\n",
        "    patch_shape = (hp[\"patch_size\"], hp[\"patch_size\"], hp[\"num_channels\"])\n",
        "    patches = patchify(image, patch_shape, hp[\"patch_size\"])\n",
        "\n",
        "    # patches = np.reshape(patches, (64, 25, 25, 3))\n",
        "    # for i in range(64):\n",
        "    #     cv2.imwrite(f\"files/{i}.png\", patches[i])\n",
        "\n",
        "    patches = np.reshape(patches, hp[\"flat_patches_shape\"])\n",
        "    patches = patches.astype(np.float32)\n",
        "\n",
        "    \"\"\" Label \"\"\"\n",
        "    class_name = path.split(\"/\")[-2]\n",
        "    class_idx = hp[\"class_names\"].index(class_name)\n",
        "    class_idx = np.array(class_idx, dtype=np.int32)\n",
        "\n",
        "    return patches, class_idx"
      ],
      "metadata": {
        "id": "WSnqrxLUUItU"
      },
      "execution_count": 13,
      "outputs": []
    },
    {
      "cell_type": "code",
      "source": [
        "def parse(path):\n",
        "    patches, labels = tf.numpy_function(process_image_label, [path], [tf.float32, tf.int32])\n",
        "    labels = tf.one_hot(labels, hp[\"num_classes\"])\n",
        "\n",
        "    patches.set_shape(hp[\"flat_patches_shape\"])\n",
        "    labels.set_shape(hp[\"num_classes\"])\n",
        "\n",
        "    return patches, labels\n",
        "\n",
        "def tf_dataset(images, batch=32):\n",
        "    ds = tf.data.Dataset.from_tensor_slices((images))\n",
        "    ds = ds.map(parse).batch(batch).prefetch(8)\n",
        "    return ds"
      ],
      "metadata": {
        "id": "QeN_lYwDUFe7"
      },
      "execution_count": 14,
      "outputs": []
    },
    {
      "cell_type": "code",
      "source": [
        "\"\"\" Seeding \"\"\"\n",
        "np.random.seed(42)\n",
        "tf.random.set_seed(42)\n",
        "\n",
        "\"\"\" Directory for storing files \"\"\"\n",
        "create_dir(\"files\")\n",
        "\n",
        "\"\"\" Paths \"\"\"\n",
        "model_path = os.path.join(\"files\", \"model.h5\")\n",
        "csv_path = os.path.join(\"files\", \"log.csv\")\n",
        "\n",
        "\"\"\" Dataset \"\"\"\n",
        "train_x, valid_x, test_x = load_data(train_path, test_path)\n",
        "print(f\"Train: {len(train_x)} - Valid: {len(valid_x)} - Test: {len(test_x)}\")\n",
        "\n",
        "train_ds = tf_dataset(train_x, batch=hp[\"batch_size\"])\n",
        "valid_ds = tf_dataset(valid_x, batch=hp[\"batch_size\"])"
      ],
      "metadata": {
        "colab": {
          "base_uri": "https://localhost:8080/"
        },
        "id": "2b5Hzt8fULm9",
        "outputId": "da453bbb-f090-40ca-bfde-75d552576b5c"
      },
      "execution_count": 15,
      "outputs": [
        {
          "output_type": "stream",
          "name": "stdout",
          "text": [
            "train dir:  ['/content/drive/MyDrive/Datasets/ReadyCP/train/RoughBark', '/content/drive/MyDrive/Datasets/ReadyCP/train/StripeCanker']\n",
            "['/content/drive/MyDrive/Datasets/ReadyCP/train/RoughBark/IMG_4853.JPG', '/content/drive/MyDrive/Datasets/ReadyCP/train/RoughBark/IMG_E4848.JPG', '/content/drive/MyDrive/Datasets/ReadyCP/train/StripeCanker/IMG_1678.JPG', '/content/drive/MyDrive/Datasets/ReadyCP/train/StripeCanker/IMG_1629.JPG', '/content/drive/MyDrive/Datasets/ReadyCP/train/StripeCanker/IMG_1762.JPG', '/content/drive/MyDrive/Datasets/ReadyCP/train/StripeCanker/IMG_1875.JPG', '/content/drive/MyDrive/Datasets/ReadyCP/train/RoughBark/IMG_E4784.JPG', '/content/drive/MyDrive/Datasets/ReadyCP/train/StripeCanker/IMG_1707.JPG', '/content/drive/MyDrive/Datasets/ReadyCP/train/StripeCanker/IMG_4877.JPG', '/content/drive/MyDrive/Datasets/ReadyCP/train/StripeCanker/IMG_1661.JPG', '/content/drive/MyDrive/Datasets/ReadyCP/train/RoughBark/IMG_E4795.JPG', '/content/drive/MyDrive/Datasets/ReadyCP/train/StripeCanker/IMG_1772.JPG', '/content/drive/MyDrive/Datasets/ReadyCP/train/StripeCanker/IMG_4891.JPG', '/content/drive/MyDrive/Datasets/ReadyCP/train/RoughBark/IMG_E4837.JPG', '/content/drive/MyDrive/Datasets/ReadyCP/train/StripeCanker/IMG_4817.JPG', '/content/drive/MyDrive/Datasets/ReadyCP/train/RoughBark/IMG_E4856.JPG', '/content/drive/MyDrive/Datasets/ReadyCP/train/StripeCanker/IMG_1705.JPG', '/content/drive/MyDrive/Datasets/ReadyCP/train/RoughBark/IMG_E4796.JPG', '/content/drive/MyDrive/Datasets/ReadyCP/train/StripeCanker/IMG_E4880.JPG', '/content/drive/MyDrive/Datasets/ReadyCP/train/StripeCanker/IMG_1681.JPG', '/content/drive/MyDrive/Datasets/ReadyCP/train/RoughBark/IMG_4842.JPG', '/content/drive/MyDrive/Datasets/ReadyCP/train/RoughBark/IMG_E4833.JPG', '/content/drive/MyDrive/Datasets/ReadyCP/train/StripeCanker/IMG_1650.JPG', '/content/drive/MyDrive/Datasets/ReadyCP/train/StripeCanker/IMG_1679.JPG', '/content/drive/MyDrive/Datasets/ReadyCP/train/StripeCanker/IMG_E4883.JPG', '/content/drive/MyDrive/Datasets/ReadyCP/train/StripeCanker/IMG_1779.JPG', '/content/drive/MyDrive/Datasets/ReadyCP/train/RoughBark/IMG_E4812.JPG', '/content/drive/MyDrive/Datasets/ReadyCP/train/RoughBark/IMG_4837.JPG', '/content/drive/MyDrive/Datasets/ReadyCP/train/RoughBark/IMG_4804.JPG', '/content/drive/MyDrive/Datasets/ReadyCP/train/RoughBark/IMG_E4841.JPG', '/content/drive/MyDrive/Datasets/ReadyCP/train/RoughBark/IMG_4827.JPG', '/content/drive/MyDrive/Datasets/ReadyCP/train/StripeCanker/IMG_1622.JPG', '/content/drive/MyDrive/Datasets/ReadyCP/train/RoughBark/IMG_4829.JPG', '/content/drive/MyDrive/Datasets/ReadyCP/train/StripeCanker/IMG_1636.JPG', '/content/drive/MyDrive/Datasets/ReadyCP/train/StripeCanker/IMG_E4820.JPG', '/content/drive/MyDrive/Datasets/ReadyCP/train/RoughBark/IMG_E4804.JPG', '/content/drive/MyDrive/Datasets/ReadyCP/train/StripeCanker/IMG_E4799.JPG', '/content/drive/MyDrive/Datasets/ReadyCP/train/StripeCanker/IMG_4875.JPG', '/content/drive/MyDrive/Datasets/ReadyCP/train/RoughBark/IMG_4806.JPG', '/content/drive/MyDrive/Datasets/ReadyCP/train/RoughBark/IMG_E4788.JPG', '/content/drive/MyDrive/Datasets/ReadyCP/train/RoughBark/IMG_4856.JPG', '/content/drive/MyDrive/Datasets/ReadyCP/train/StripeCanker/IMG_1630.JPG', '/content/drive/MyDrive/Datasets/ReadyCP/train/RoughBark/IMG_E4831.JPG', '/content/drive/MyDrive/Datasets/ReadyCP/train/RoughBark/IMG_4830.JPG', '/content/drive/MyDrive/Datasets/ReadyCP/train/RoughBark/IMG_E4863.JPG', '/content/drive/MyDrive/Datasets/ReadyCP/train/StripeCanker/IMG_1646.JPG', '/content/drive/MyDrive/Datasets/ReadyCP/train/RoughBark/IMG_4814.JPG', '/content/drive/MyDrive/Datasets/ReadyCP/train/RoughBark/IMG_4869.JPG', '/content/drive/MyDrive/Datasets/ReadyCP/train/StripeCanker/IMG_1639.JPG', '/content/drive/MyDrive/Datasets/ReadyCP/train/StripeCanker/IMG_E4886.JPG', '/content/drive/MyDrive/Datasets/ReadyCP/train/RoughBark/IMG_E4830.JPG', '/content/drive/MyDrive/Datasets/ReadyCP/train/StripeCanker/IMG_1643.JPG', '/content/drive/MyDrive/Datasets/ReadyCP/train/StripeCanker/IMG_4886.JPG', '/content/drive/MyDrive/Datasets/ReadyCP/train/RoughBark/IMG_4813.JPG', '/content/drive/MyDrive/Datasets/ReadyCP/train/StripeCanker/IMG_1613.JPG', '/content/drive/MyDrive/Datasets/ReadyCP/train/RoughBark/IMG_4809.JPG', '/content/drive/MyDrive/Datasets/ReadyCP/train/StripeCanker/IMG_1812.JPG', '/content/drive/MyDrive/Datasets/ReadyCP/train/RoughBark/IMG_E4867.JPG', '/content/drive/MyDrive/Datasets/ReadyCP/train/RoughBark/IMG_4854.JPG', '/content/drive/MyDrive/Datasets/ReadyCP/train/RoughBark/IMG_E4827.JPG', '/content/drive/MyDrive/Datasets/ReadyCP/train/StripeCanker/IMG_1716.JPG', '/content/drive/MyDrive/Datasets/ReadyCP/train/StripeCanker/IMG_E4875.JPG', '/content/drive/MyDrive/Datasets/ReadyCP/train/RoughBark/IMG_4861.JPG', '/content/drive/MyDrive/Datasets/ReadyCP/train/StripeCanker/IMG_1644.JPG', '/content/drive/MyDrive/Datasets/ReadyCP/train/RoughBark/IMG_4825.JPG', '/content/drive/MyDrive/Datasets/ReadyCP/train/StripeCanker/IMG_E4877.JPG', '/content/drive/MyDrive/Datasets/ReadyCP/train/StripeCanker/IMG_4819.JPG', '/content/drive/MyDrive/Datasets/ReadyCP/train/RoughBark/IMG_4892.JPG', '/content/drive/MyDrive/Datasets/ReadyCP/train/RoughBark/IMG_E4893.JPG', '/content/drive/MyDrive/Datasets/ReadyCP/train/StripeCanker/IMG_1662.JPG', '/content/drive/MyDrive/Datasets/ReadyCP/train/RoughBark/IMG_E4847.JPG', '/content/drive/MyDrive/Datasets/ReadyCP/train/StripeCanker/IMG_1642.JPG', '/content/drive/MyDrive/Datasets/ReadyCP/train/StripeCanker/IMG_4803.JPG', '/content/drive/MyDrive/Datasets/ReadyCP/train/RoughBark/IMG_4866.JPG', '/content/drive/MyDrive/Datasets/ReadyCP/train/RoughBark/IMG_4824.JPG', '/content/drive/MyDrive/Datasets/ReadyCP/train/StripeCanker/IMG_1664.JPG', '/content/drive/MyDrive/Datasets/ReadyCP/train/StripeCanker/IMG_1774.JPG', '/content/drive/MyDrive/Datasets/ReadyCP/train/RoughBark/IMG_E4785.JPG', '/content/drive/MyDrive/Datasets/ReadyCP/train/RoughBark/IMG_E4854.JPG', '/content/drive/MyDrive/Datasets/ReadyCP/train/RoughBark/IMG_E4783.JPG', '/content/drive/MyDrive/Datasets/ReadyCP/train/StripeCanker/IMG_1641.JPG', '/content/drive/MyDrive/Datasets/ReadyCP/train/RoughBark/IMG_E4811.JPG', '/content/drive/MyDrive/Datasets/ReadyCP/train/StripeCanker/IMG_1781.JPG', '/content/drive/MyDrive/Datasets/ReadyCP/train/StripeCanker/IMG_1784.JPG', '/content/drive/MyDrive/Datasets/ReadyCP/train/RoughBark/IMG_4847.JPG', '/content/drive/MyDrive/Datasets/ReadyCP/train/StripeCanker/IMG_1638.JPG', '/content/drive/MyDrive/Datasets/ReadyCP/train/StripeCanker/IMG_1667.JPG', '/content/drive/MyDrive/Datasets/ReadyCP/train/RoughBark/IMG_E4806.JPG', '/content/drive/MyDrive/Datasets/ReadyCP/train/StripeCanker/IMG_4820.JPG', '/content/drive/MyDrive/Datasets/ReadyCP/train/StripeCanker/IMG_4881.JPG', '/content/drive/MyDrive/Datasets/ReadyCP/train/StripeCanker/IMG_1618.JPG', '/content/drive/MyDrive/Datasets/ReadyCP/train/RoughBark/IMG_4844.JPG', '/content/drive/MyDrive/Datasets/ReadyCP/train/StripeCanker/IMG_1683.JPG', '/content/drive/MyDrive/Datasets/ReadyCP/train/RoughBark/IMG_4864.JPG', '/content/drive/MyDrive/Datasets/ReadyCP/train/StripeCanker/IMG_E4878.JPG', '/content/drive/MyDrive/Datasets/ReadyCP/train/RoughBark/IMG_E4869.JPG', '/content/drive/MyDrive/Datasets/ReadyCP/train/StripeCanker/IMG_E4802.JPG', '/content/drive/MyDrive/Datasets/ReadyCP/train/RoughBark/IMG_E4843.JPG', '/content/drive/MyDrive/Datasets/ReadyCP/train/StripeCanker/IMG_1619.JPG', '/content/drive/MyDrive/Datasets/ReadyCP/train/RoughBark/IMG_E4892.JPG', '/content/drive/MyDrive/Datasets/ReadyCP/train/StripeCanker/IMG_1654.JPG', '/content/drive/MyDrive/Datasets/ReadyCP/train/RoughBark/IMG_E4852.JPG', '/content/drive/MyDrive/Datasets/ReadyCP/train/StripeCanker/IMG_E4890.JPG', '/content/drive/MyDrive/Datasets/ReadyCP/train/RoughBark/IMG_E4828.JPG', '/content/drive/MyDrive/Datasets/ReadyCP/train/RoughBark/IMG_E4868.JPG', '/content/drive/MyDrive/Datasets/ReadyCP/train/RoughBark/IMG_4796.JPG', '/content/drive/MyDrive/Datasets/ReadyCP/train/RoughBark/IMG_E4855.JPG', '/content/drive/MyDrive/Datasets/ReadyCP/train/RoughBark/IMG_E4810.JPG', '/content/drive/MyDrive/Datasets/ReadyCP/train/RoughBark/IMG_E4870.JPG', '/content/drive/MyDrive/Datasets/ReadyCP/train/StripeCanker/IMG_1632.JPG', '/content/drive/MyDrive/Datasets/ReadyCP/train/StripeCanker/IMG_1648.JPG', '/content/drive/MyDrive/Datasets/ReadyCP/train/RoughBark/IMG_E4829.JPG', '/content/drive/MyDrive/Datasets/ReadyCP/train/RoughBark/IMG_E4861.JPG', '/content/drive/MyDrive/Datasets/ReadyCP/train/StripeCanker/IMG_1666.JPG', '/content/drive/MyDrive/Datasets/ReadyCP/train/StripeCanker/IMG_1635.JPG', '/content/drive/MyDrive/Datasets/ReadyCP/train/StripeCanker/IMG_1677.JPG', '/content/drive/MyDrive/Datasets/ReadyCP/train/RoughBark/IMG_E4808.JPG', '/content/drive/MyDrive/Datasets/ReadyCP/train/RoughBark/IMG_E4849.JPG', '/content/drive/MyDrive/Datasets/ReadyCP/train/RoughBark/IMG_4848.JPG', '/content/drive/MyDrive/Datasets/ReadyCP/train/StripeCanker/IMG_1775.JPG', '/content/drive/MyDrive/Datasets/ReadyCP/train/StripeCanker/IMG_4888.JPG', '/content/drive/MyDrive/Datasets/ReadyCP/train/StripeCanker/IMG_4882.JPG', '/content/drive/MyDrive/Datasets/ReadyCP/train/StripeCanker/IMG_1628.JPG', '/content/drive/MyDrive/Datasets/ReadyCP/train/StripeCanker/IMG_4878.JPG', '/content/drive/MyDrive/Datasets/ReadyCP/train/RoughBark/IMG_4807.JPG', '/content/drive/MyDrive/Datasets/ReadyCP/train/RoughBark/IMG_E4860.JPG', '/content/drive/MyDrive/Datasets/ReadyCP/train/RoughBark/IMG_E4787.JPG', '/content/drive/MyDrive/Datasets/ReadyCP/train/StripeCanker/IMG_1612.JPG', '/content/drive/MyDrive/Datasets/ReadyCP/train/StripeCanker/IMG_1620.JPG', '/content/drive/MyDrive/Datasets/ReadyCP/train/RoughBark/IMG_E4780.JPG', '/content/drive/MyDrive/Datasets/ReadyCP/train/StripeCanker/IMG_1607.JPG', '/content/drive/MyDrive/Datasets/ReadyCP/train/RoughBark/IMG_E4815.JPG', '/content/drive/MyDrive/Datasets/ReadyCP/train/StripeCanker/IMG_1637.JPG', '/content/drive/MyDrive/Datasets/ReadyCP/train/RoughBark/IMG_4823.JPG', '/content/drive/MyDrive/Datasets/ReadyCP/train/RoughBark/IMG_4855.JPG', '/content/drive/MyDrive/Datasets/ReadyCP/train/RoughBark/IMG_4859.JPG', '/content/drive/MyDrive/Datasets/ReadyCP/train/StripeCanker/IMG_E4800.JPG', '/content/drive/MyDrive/Datasets/ReadyCP/train/StripeCanker/IMG_1647.JPG', '/content/drive/MyDrive/Datasets/ReadyCP/train/RoughBark/IMG_4843.JPG', '/content/drive/MyDrive/Datasets/ReadyCP/train/RoughBark/IMG_E4836.JPG', '/content/drive/MyDrive/Datasets/ReadyCP/train/StripeCanker/IMG_1616.JPG', '/content/drive/MyDrive/Datasets/ReadyCP/train/StripeCanker/IMG_E4884.JPG', '/content/drive/MyDrive/Datasets/ReadyCP/train/RoughBark/IMG_4858.JPG', '/content/drive/MyDrive/Datasets/ReadyCP/train/StripeCanker/IMG_1780.JPG', '/content/drive/MyDrive/Datasets/ReadyCP/train/StripeCanker/IMG_1640.JPG', '/content/drive/MyDrive/Datasets/ReadyCP/train/StripeCanker/IMG_1623.JPG', '/content/drive/MyDrive/Datasets/ReadyCP/train/RoughBark/IMG_4832.JPG', '/content/drive/MyDrive/Datasets/ReadyCP/train/StripeCanker/IMG_E4887.JPG', '/content/drive/MyDrive/Datasets/ReadyCP/train/StripeCanker/IMG_1665.JPG', '/content/drive/MyDrive/Datasets/ReadyCP/train/StripeCanker/IMG_1624.JPG', '/content/drive/MyDrive/Datasets/ReadyCP/train/RoughBark/IMG_4798.JPG', '/content/drive/MyDrive/Datasets/ReadyCP/train/StripeCanker/IMG_E4816.JPG', '/content/drive/MyDrive/Datasets/ReadyCP/train/RoughBark/IMG_E4791.JPG', '/content/drive/MyDrive/Datasets/ReadyCP/train/StripeCanker/IMG_E4876.JPG', '/content/drive/MyDrive/Datasets/ReadyCP/train/StripeCanker/IMG_E4879.JPG', '/content/drive/MyDrive/Datasets/ReadyCP/train/RoughBark/IMG_E4790.JPG', '/content/drive/MyDrive/Datasets/ReadyCP/train/RoughBark/IMG_4860.JPG', '/content/drive/MyDrive/Datasets/ReadyCP/train/RoughBark/IMG_E4782.JPG', '/content/drive/MyDrive/Datasets/ReadyCP/train/StripeCanker/IMG_1659.JPG', '/content/drive/MyDrive/Datasets/ReadyCP/train/StripeCanker/IMG_4801.JPG', '/content/drive/MyDrive/Datasets/ReadyCP/train/StripeCanker/IMG_4887.JPG', '/content/drive/MyDrive/Datasets/ReadyCP/train/StripeCanker/IMG_4880.JPG', '/content/drive/MyDrive/Datasets/ReadyCP/train/RoughBark/IMG_4805.JPG', '/content/drive/MyDrive/Datasets/ReadyCP/train/StripeCanker/IMG_E4891.JPG', '/content/drive/MyDrive/Datasets/ReadyCP/train/StripeCanker/IMG_1684.JPG', '/content/drive/MyDrive/Datasets/ReadyCP/train/RoughBark/IMG_4838.JPG', '/content/drive/MyDrive/Datasets/ReadyCP/train/StripeCanker/IMG_1633.JPG', '/content/drive/MyDrive/Datasets/ReadyCP/train/RoughBark/IMG_4797.JPG', '/content/drive/MyDrive/Datasets/ReadyCP/train/RoughBark/IMG_E4858.JPG', '/content/drive/MyDrive/Datasets/ReadyCP/train/RoughBark/IMG_4836.JPG', '/content/drive/MyDrive/Datasets/ReadyCP/train/StripeCanker/IMG_1808.JPG', '/content/drive/MyDrive/Datasets/ReadyCP/train/StripeCanker/IMG_1645.JPG', '/content/drive/MyDrive/Datasets/ReadyCP/train/StripeCanker/IMG_1668.JPG', '/content/drive/MyDrive/Datasets/ReadyCP/train/StripeCanker/IMG_E4803.JPG', '/content/drive/MyDrive/Datasets/ReadyCP/train/StripeCanker/IMG_1614.JPG', '/content/drive/MyDrive/Datasets/ReadyCP/train/RoughBark/IMG_E4813.JPG', '/content/drive/MyDrive/Datasets/ReadyCP/train/StripeCanker/IMG_1660.JPG', '/content/drive/MyDrive/Datasets/ReadyCP/train/RoughBark/IMG_E4838.JPG', '/content/drive/MyDrive/Datasets/ReadyCP/train/StripeCanker/IMG_4818.JPG', '/content/drive/MyDrive/Datasets/ReadyCP/train/StripeCanker/IMG_1778.JPG', '/content/drive/MyDrive/Datasets/ReadyCP/train/RoughBark/IMG_E4793.JPG', '/content/drive/MyDrive/Datasets/ReadyCP/train/StripeCanker/IMG_4885.JPG', '/content/drive/MyDrive/Datasets/ReadyCP/train/RoughBark/IMG_E4805.JPG', '/content/drive/MyDrive/Datasets/ReadyCP/train/RoughBark/IMG_4862.JPG', '/content/drive/MyDrive/Datasets/ReadyCP/train/StripeCanker/IMG_1776.JPG', '/content/drive/MyDrive/Datasets/ReadyCP/train/StripeCanker/IMG_1621.JPG', '/content/drive/MyDrive/Datasets/ReadyCP/train/RoughBark/IMG_4846.JPG', '/content/drive/MyDrive/Datasets/ReadyCP/train/RoughBark/IMG_E4853.JPG', '/content/drive/MyDrive/Datasets/ReadyCP/train/StripeCanker/IMG_1671.JPG', '/content/drive/MyDrive/Datasets/ReadyCP/train/StripeCanker/IMG_1625.JPG', '/content/drive/MyDrive/Datasets/ReadyCP/train/RoughBark/IMG_4831.JPG', '/content/drive/MyDrive/Datasets/ReadyCP/train/StripeCanker/IMG_1717.JPG', '/content/drive/MyDrive/Datasets/ReadyCP/train/StripeCanker/IMG_4884.JPG', '/content/drive/MyDrive/Datasets/ReadyCP/train/RoughBark/IMG_E4807.JPG', '/content/drive/MyDrive/Datasets/ReadyCP/train/RoughBark/IMG_4834.JPG', '/content/drive/MyDrive/Datasets/ReadyCP/train/StripeCanker/IMG_1783.JPG', '/content/drive/MyDrive/Datasets/ReadyCP/train/StripeCanker/IMG_E4818.JPG', '/content/drive/MyDrive/Datasets/ReadyCP/train/RoughBark/IMG_4849.JPG', '/content/drive/MyDrive/Datasets/ReadyCP/train/RoughBark/IMG_4871.JPG', '/content/drive/MyDrive/Datasets/ReadyCP/train/StripeCanker/IMG_4799.JPG', '/content/drive/MyDrive/Datasets/ReadyCP/train/StripeCanker/IMG_4816.JPG', '/content/drive/MyDrive/Datasets/ReadyCP/train/StripeCanker/IMG_1649.JPG', '/content/drive/MyDrive/Datasets/ReadyCP/train/RoughBark/IMG_4833.JPG', '/content/drive/MyDrive/Datasets/ReadyCP/train/StripeCanker/IMG_1652.JPG', '/content/drive/MyDrive/Datasets/ReadyCP/train/StripeCanker/IMG_1611.JPG', '/content/drive/MyDrive/Datasets/ReadyCP/train/StripeCanker/IMG_E4881.JPG', '/content/drive/MyDrive/Datasets/ReadyCP/train/RoughBark/IMG_4793.JPG', '/content/drive/MyDrive/Datasets/ReadyCP/train/RoughBark/IMG_E4874.JPG', '/content/drive/MyDrive/Datasets/ReadyCP/train/RoughBark/IMG_E4809.JPG', '/content/drive/MyDrive/Datasets/ReadyCP/train/RoughBark/IMG_E4857.JPG', '/content/drive/MyDrive/Datasets/ReadyCP/train/RoughBark/IMG_4795.JPG', '/content/drive/MyDrive/Datasets/ReadyCP/train/StripeCanker/IMG_1773.JPG', '/content/drive/MyDrive/Datasets/ReadyCP/train/RoughBark/IMG_4867.JPG', '/content/drive/MyDrive/Datasets/ReadyCP/train/RoughBark/IMG_4845.JPG', '/content/drive/MyDrive/Datasets/ReadyCP/train/StripeCanker/IMG_1658.JPG', '/content/drive/MyDrive/Datasets/ReadyCP/train/RoughBark/IMG_4868.JPG', '/content/drive/MyDrive/Datasets/ReadyCP/train/StripeCanker/IMG_1771.JPG', '/content/drive/MyDrive/Datasets/ReadyCP/train/RoughBark/IMG_4841.JPG', '/content/drive/MyDrive/Datasets/ReadyCP/train/StripeCanker/IMG_4879.JPG', '/content/drive/MyDrive/Datasets/ReadyCP/train/RoughBark/IMG_4808.JPG', '/content/drive/MyDrive/Datasets/ReadyCP/train/StripeCanker/IMG_1631.JPG', '/content/drive/MyDrive/Datasets/ReadyCP/train/StripeCanker/IMG_1682.JPG', '/content/drive/MyDrive/Datasets/ReadyCP/train/StripeCanker/IMG_1703.JPG', '/content/drive/MyDrive/Datasets/ReadyCP/train/RoughBark/IMG_E4866.JPG', '/content/drive/MyDrive/Datasets/ReadyCP/train/RoughBark/IMG_E4781.JPG', '/content/drive/MyDrive/Datasets/ReadyCP/train/RoughBark/IMG_E4789.JPG', '/content/drive/MyDrive/Datasets/ReadyCP/train/RoughBark/IMG_E4842.JPG', '/content/drive/MyDrive/Datasets/ReadyCP/train/RoughBark/IMG_E4832.JPG', '/content/drive/MyDrive/Datasets/ReadyCP/train/RoughBark/IMG_E4797.JPG', '/content/drive/MyDrive/Datasets/ReadyCP/train/RoughBark/IMG_4810.JPG', '/content/drive/MyDrive/Datasets/ReadyCP/train/RoughBark/IMG_4812.JPG', '/content/drive/MyDrive/Datasets/ReadyCP/train/RoughBark/IMG_E4798.JPG', '/content/drive/MyDrive/Datasets/ReadyCP/train/RoughBark/IMG_E4786.JPG', '/content/drive/MyDrive/Datasets/ReadyCP/train/RoughBark/IMG_E4871.JPG', '/content/drive/MyDrive/Datasets/ReadyCP/train/RoughBark/IMG_4811.JPG', '/content/drive/MyDrive/Datasets/ReadyCP/train/StripeCanker/IMG_1651.JPG', '/content/drive/MyDrive/Datasets/ReadyCP/train/RoughBark/IMG_E4792.JPG', '/content/drive/MyDrive/Datasets/ReadyCP/train/StripeCanker/IMG_E4885.JPG', '/content/drive/MyDrive/Datasets/ReadyCP/train/RoughBark/IMG_E4859.JPG', '/content/drive/MyDrive/Datasets/ReadyCP/train/StripeCanker/IMG_4800.JPG', '/content/drive/MyDrive/Datasets/ReadyCP/train/StripeCanker/IMG_1874.JPG', '/content/drive/MyDrive/Datasets/ReadyCP/train/StripeCanker/IMG_1680.JPG', '/content/drive/MyDrive/Datasets/ReadyCP/train/RoughBark/IMG_4874.JPG', '/content/drive/MyDrive/Datasets/ReadyCP/train/RoughBark/IMG_E4794.JPG', '/content/drive/MyDrive/Datasets/ReadyCP/train/RoughBark/IMG_E4862.JPG', '/content/drive/MyDrive/Datasets/ReadyCP/train/RoughBark/IMG_4857.JPG', '/content/drive/MyDrive/Datasets/ReadyCP/train/StripeCanker/IMG_E4882.JPG', '/content/drive/MyDrive/Datasets/ReadyCP/train/StripeCanker/IMG_1657.JPG', '/content/drive/MyDrive/Datasets/ReadyCP/train/StripeCanker/IMG_4883.JPG', '/content/drive/MyDrive/Datasets/ReadyCP/train/StripeCanker/IMG_1669.JPG', '/content/drive/MyDrive/Datasets/ReadyCP/train/RoughBark/IMG_4815.JPG', '/content/drive/MyDrive/Datasets/ReadyCP/train/StripeCanker/IMG_E4801.JPG', '/content/drive/MyDrive/Datasets/ReadyCP/train/StripeCanker/IMG_1653.JPG', '/content/drive/MyDrive/Datasets/ReadyCP/train/StripeCanker/IMG_1676.JPG', '/content/drive/MyDrive/Datasets/ReadyCP/train/StripeCanker/IMG_1627.JPG', '/content/drive/MyDrive/Datasets/ReadyCP/train/StripeCanker/IMG_4890.JPG', '/content/drive/MyDrive/Datasets/ReadyCP/train/RoughBark/IMG_E4834.JPG', '/content/drive/MyDrive/Datasets/ReadyCP/train/RoughBark/IMG_4852.JPG', '/content/drive/MyDrive/Datasets/ReadyCP/train/StripeCanker/IMG_1777.JPG', '/content/drive/MyDrive/Datasets/ReadyCP/train/StripeCanker/IMG_4802.JPG', '/content/drive/MyDrive/Datasets/ReadyCP/train/RoughBark/IMG_4828.JPG', '/content/drive/MyDrive/Datasets/ReadyCP/train/StripeCanker/IMG_1670.JPG', '/content/drive/MyDrive/Datasets/ReadyCP/train/StripeCanker/IMG_1626.JPG', '/content/drive/MyDrive/Datasets/ReadyCP/train/StripeCanker/IMG_1782.JPG', '/content/drive/MyDrive/Datasets/ReadyCP/train/StripeCanker/IMG_1663.JPG', '/content/drive/MyDrive/Datasets/ReadyCP/train/RoughBark/IMG_E4864.JPG', '/content/drive/MyDrive/Datasets/ReadyCP/train/StripeCanker/IMG_1608.JPG', '/content/drive/MyDrive/Datasets/ReadyCP/train/RoughBark/IMG_E4814.JPG', '/content/drive/MyDrive/Datasets/ReadyCP/train/RoughBark/IMG_4863.JPG', '/content/drive/MyDrive/Datasets/ReadyCP/train/StripeCanker/IMG_4889.JPG', '/content/drive/MyDrive/Datasets/ReadyCP/train/RoughBark/IMG_E4844.JPG', '/content/drive/MyDrive/Datasets/ReadyCP/train/StripeCanker/IMG_E4888.JPG', '/content/drive/MyDrive/Datasets/ReadyCP/train/RoughBark/IMG_4826.JPG', '/content/drive/MyDrive/Datasets/ReadyCP/train/StripeCanker/IMG_1634.JPG', '/content/drive/MyDrive/Datasets/ReadyCP/train/RoughBark/IMG_4870.JPG', '/content/drive/MyDrive/Datasets/ReadyCP/train/RoughBark/IMG_E4845.JPG', '/content/drive/MyDrive/Datasets/ReadyCP/train/StripeCanker/IMG_E4889.JPG', '/content/drive/MyDrive/Datasets/ReadyCP/train/RoughBark/IMG_4893.JPG']\n",
            "test dir:  ['/content/drive/MyDrive/Datasets/ReadyCP/test/StripeCanker', '/content/drive/MyDrive/Datasets/ReadyCP/test/RoughBark']\n",
            "['/content/drive/MyDrive/Datasets/ReadyCP/test/RoughBark/IMG_4790.JPG', '/content/drive/MyDrive/Datasets/ReadyCP/test/StripeCanker/IMG_1565.JPG', '/content/drive/MyDrive/Datasets/ReadyCP/test/RoughBark/IMG_1564.JPG', '/content/drive/MyDrive/Datasets/ReadyCP/test/StripeCanker/IMG_1566.JPG', '/content/drive/MyDrive/Datasets/ReadyCP/test/RoughBark/IMG_4785.JPG', '/content/drive/MyDrive/Datasets/ReadyCP/test/RoughBark/IMG_2044.JPG', '/content/drive/MyDrive/Datasets/ReadyCP/test/StripeCanker/IMG_1573.JPG', '/content/drive/MyDrive/Datasets/ReadyCP/test/StripeCanker/IMG_1553.JPG', '/content/drive/MyDrive/Datasets/ReadyCP/test/StripeCanker/IMG_1552.JPG', '/content/drive/MyDrive/Datasets/ReadyCP/test/RoughBark/IMG_1965.JPG', '/content/drive/MyDrive/Datasets/ReadyCP/test/StripeCanker/IMG_1554.JPG', '/content/drive/MyDrive/Datasets/ReadyCP/test/RoughBark/IMG_1563.JPG', '/content/drive/MyDrive/Datasets/ReadyCP/test/RoughBark/IMG_1964.JPG', '/content/drive/MyDrive/Datasets/ReadyCP/test/RoughBark/IMG_1944.JPG', '/content/drive/MyDrive/Datasets/ReadyCP/test/StripeCanker/IMG_1558.JPG', '/content/drive/MyDrive/Datasets/ReadyCP/test/StripeCanker/IMG_1606.JPG', '/content/drive/MyDrive/Datasets/ReadyCP/test/StripeCanker/IMG_1568.JPG', '/content/drive/MyDrive/Datasets/ReadyCP/test/RoughBark/IMG_1887.JPG', '/content/drive/MyDrive/Datasets/ReadyCP/test/StripeCanker/IMG_1604.JPG', '/content/drive/MyDrive/Datasets/ReadyCP/test/StripeCanker/IMG_1571.JPG', '/content/drive/MyDrive/Datasets/ReadyCP/test/RoughBark/IMG_4791.JPG', '/content/drive/MyDrive/Datasets/ReadyCP/test/RoughBark/IMG_2058.JPG', '/content/drive/MyDrive/Datasets/ReadyCP/test/StripeCanker/IMG_1557.JPG', '/content/drive/MyDrive/Datasets/ReadyCP/test/StripeCanker/IMG_1549.JPG', '/content/drive/MyDrive/Datasets/ReadyCP/test/StripeCanker/IMG_1555.JPG', '/content/drive/MyDrive/Datasets/ReadyCP/test/StripeCanker/IMG_1556.JPG', '/content/drive/MyDrive/Datasets/ReadyCP/test/StripeCanker/IMG_1574.JPG', '/content/drive/MyDrive/Datasets/ReadyCP/test/RoughBark/IMG_4786.JPG', '/content/drive/MyDrive/Datasets/ReadyCP/test/RoughBark/IMG_4792.JPG', '/content/drive/MyDrive/Datasets/ReadyCP/test/StripeCanker/IMG_1605.JPG', '/content/drive/MyDrive/Datasets/ReadyCP/test/StripeCanker/IMG_1567.JPG', '/content/drive/MyDrive/Datasets/ReadyCP/test/StripeCanker/IMG_1551.JPG', '/content/drive/MyDrive/Datasets/ReadyCP/test/StripeCanker/IMG_1559.JPG', '/content/drive/MyDrive/Datasets/ReadyCP/test/RoughBark/IMG_4783.JPG', '/content/drive/MyDrive/Datasets/ReadyCP/test/StripeCanker/IMG_1550.JPG', '/content/drive/MyDrive/Datasets/ReadyCP/test/RoughBark/IMG_4788.JPG', '/content/drive/MyDrive/Datasets/ReadyCP/test/StripeCanker/IMG_1548.JPG', '/content/drive/MyDrive/Datasets/ReadyCP/test/RoughBark/IMG_2098.JPG', '/content/drive/MyDrive/Datasets/ReadyCP/test/StripeCanker/IMG_1584.JPG', '/content/drive/MyDrive/Datasets/ReadyCP/test/RoughBark/IMG_1668.JPG', '/content/drive/MyDrive/Datasets/ReadyCP/test/RoughBark/IMG_4787.JPG', '/content/drive/MyDrive/Datasets/ReadyCP/test/RoughBark/IMG_4789.JPG', '/content/drive/MyDrive/Datasets/ReadyCP/test/StripeCanker/IMG_1572.JPG', '/content/drive/MyDrive/Datasets/ReadyCP/test/RoughBark/IMG_4780.JPG', '/content/drive/MyDrive/Datasets/ReadyCP/test/StripeCanker/IMG_1575.JPG', '/content/drive/MyDrive/Datasets/ReadyCP/test/RoughBark/IMG_4784.JPG', '/content/drive/MyDrive/Datasets/ReadyCP/test/RoughBark/IMG_2010.JPG', '/content/drive/MyDrive/Datasets/ReadyCP/test/RoughBark/IMG_4782.JPG']\n",
            "Train: 237 - Valid: 41 - Test: 48\n"
          ]
        }
      ]
    },
    {
      "cell_type": "code",
      "source": [
        "wandb.init(project=\"tensorflow\", name=run_name)"
      ],
      "metadata": {
        "colab": {
          "base_uri": "https://localhost:8080/",
          "height": 142
        },
        "id": "RE0PcgYfU8ly",
        "outputId": "414d4f9a-d1e4-4f86-8bbd-ed4cad302a4f"
      },
      "execution_count": 16,
      "outputs": [
        {
          "output_type": "stream",
          "name": "stderr",
          "text": [
            "\u001b[34m\u001b[1mwandb\u001b[0m: Currently logged in as: \u001b[33marunwarrier\u001b[0m (\u001b[33mmodel-analyze\u001b[0m). Use \u001b[1m`wandb login --relogin`\u001b[0m to force relogin\n"
          ]
        },
        {
          "output_type": "display_data",
          "data": {
            "text/plain": [
              "<IPython.core.display.HTML object>"
            ],
            "text/html": [
              "Tracking run with wandb version 0.16.0"
            ]
          },
          "metadata": {}
        },
        {
          "output_type": "display_data",
          "data": {
            "text/plain": [
              "<IPython.core.display.HTML object>"
            ],
            "text/html": [
              "Run data is saved locally in <code>/content/wandb/run-20231114_110849-3ww5imct</code>"
            ]
          },
          "metadata": {}
        },
        {
          "output_type": "display_data",
          "data": {
            "text/plain": [
              "<IPython.core.display.HTML object>"
            ],
            "text/html": [
              "Syncing run <strong><a href='https://wandb.ai/model-analyze/tensorflow/runs/3ww5imct' target=\"_blank\">CP-1</a></strong> to <a href='https://wandb.ai/model-analyze/tensorflow' target=\"_blank\">Weights & Biases</a> (<a href='https://wandb.me/run' target=\"_blank\">docs</a>)<br/>"
            ]
          },
          "metadata": {}
        },
        {
          "output_type": "display_data",
          "data": {
            "text/plain": [
              "<IPython.core.display.HTML object>"
            ],
            "text/html": [
              " View project at <a href='https://wandb.ai/model-analyze/tensorflow' target=\"_blank\">https://wandb.ai/model-analyze/tensorflow</a>"
            ]
          },
          "metadata": {}
        },
        {
          "output_type": "display_data",
          "data": {
            "text/plain": [
              "<IPython.core.display.HTML object>"
            ],
            "text/html": [
              " View run at <a href='https://wandb.ai/model-analyze/tensorflow/runs/3ww5imct' target=\"_blank\">https://wandb.ai/model-analyze/tensorflow/runs/3ww5imct</a>"
            ]
          },
          "metadata": {}
        },
        {
          "output_type": "execute_result",
          "data": {
            "text/html": [
              "<button onClick=\"this.nextSibling.style.display='block';this.style.display='none';\">Display W&B run</button><iframe src='https://wandb.ai/model-analyze/tensorflow/runs/3ww5imct?jupyter=true' style='border:none;width:100%;height:420px;display:none;'></iframe>"
            ],
            "text/plain": [
              "<wandb.sdk.wandb_run.Run at 0x78ae37ffe6b0>"
            ]
          },
          "metadata": {},
          "execution_count": 16
        }
      ]
    },
    {
      "cell_type": "code",
      "source": [
        "\"\"\" Model \"\"\"\n",
        "model = ViT(hp)\n",
        "model.compile(\n",
        "    loss=\"categorical_crossentropy\",\n",
        "    optimizer=tf.keras.optimizers.Adam(hp[\"lr\"], clipvalue=1.0),\n",
        "    metrics=[\"acc\"]\n",
        ")\n",
        "\n",
        "callbacks = [\n",
        "    ModelCheckpoint(model_path, monitor='val_loss', verbose=1, save_best_only=True),\n",
        "    ReduceLROnPlateau(monitor='val_loss', factor=0.1, patience=10, min_lr=1e-10, verbose=1),\n",
        "    CSVLogger(csv_path),\n",
        "    EarlyStopping(monitor='val_loss', patience=50, restore_best_weights=False),\n",
        "    WandbCallback(),\n",
        "]\n",
        "\n",
        "model.fit(\n",
        "    train_ds,\n",
        "    epochs=hp[\"num_epochs\"],\n",
        "    validation_data=valid_ds,\n",
        "    callbacks=callbacks\n",
        ")"
      ],
      "metadata": {
        "colab": {
          "base_uri": "https://localhost:8080/"
        },
        "id": "oRlNlMV02u70",
        "outputId": "843ac10c-d9ef-4df4-8b4d-0f165bd3da59"
      },
      "execution_count": 17,
      "outputs": [
        {
          "output_type": "stream",
          "name": "stderr",
          "text": [
            "\u001b[34m\u001b[1mwandb\u001b[0m: \u001b[33mWARNING\u001b[0m The save_model argument by default saves the model in the HDF5 format that cannot save custom objects like subclassed models and custom layers. This behavior will be deprecated in a future release in favor of the SavedModel format. Meanwhile, the HDF5 model is saved as W&B files and the SavedModel as W&B Artifacts.\n"
          ]
        },
        {
          "output_type": "stream",
          "name": "stdout",
          "text": [
            "8/8 [==============================] - ETA: 0s - loss: 4.7222 - acc: 0.5232\n",
            "Epoch 1: val_loss improved from inf to 0.78702, saving model to files/model.h5\n"
          ]
        },
        {
          "output_type": "stream",
          "name": "stderr",
          "text": [
            "/usr/local/lib/python3.10/dist-packages/keras/src/engine/training.py:3079: UserWarning: You are saving your model as an HDF5 file via `model.save()`. This file format is considered legacy. We recommend using instead the native Keras format, e.g. `model.save('my_model.keras')`.\n",
            "  saving_api.save_model(\n",
            "\u001b[34m\u001b[1mwandb\u001b[0m: Adding directory to artifact (/content/wandb/run-20231114_110849-3ww5imct/files/model-best)... Done. 145.2s\n"
          ]
        },
        {
          "output_type": "stream",
          "name": "stdout",
          "text": [
            "\b\b\b\b\b\b\b\b\b\b\b\b\b\b\b\b\b\b\b\b\b\b\b\b\b\b\b\b\b\b\b\b\b\b\b\b\b\b\b\b\b\b\b\b\b\b\b\b\b\b\b\b\b\b\b\b\b\b\b\b\b\b\b\b\b\b\b\b\b\b\b\b\b\b\b\r8/8 [==============================] - 518s 64s/step - loss: 4.7222 - acc: 0.5232 - val_loss: 0.7870 - val_acc: 0.3659 - lr: 1.0000e-04\n"
          ]
        },
        {
          "output_type": "execute_result",
          "data": {
            "text/plain": [
              "<keras.src.callbacks.History at 0x78ae31e9f940>"
            ]
          },
          "metadata": {},
          "execution_count": 17
        }
      ]
    },
    {
      "cell_type": "code",
      "source": [
        "wandb.finish()"
      ],
      "metadata": {
        "id": "o4jJ1AkCVA1w"
      },
      "execution_count": null,
      "outputs": []
    }
  ]
}